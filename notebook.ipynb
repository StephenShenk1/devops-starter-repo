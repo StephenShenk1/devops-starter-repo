{
 "cells": [
  {
   "cell_type": "markdown",
   "metadata": {},
   "source": [
    "# DevOps Engineer Notebook\n",
    "This notebook helps practice YAML, JSON, Terraform, Packer, Ansible, and CI/CD integration."
   ]
  }
 ],
 "metadata": {},
 "nbformat": 4,
 "nbformat_minor": 5
}